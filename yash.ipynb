{
 "cells": [
  {
   "cell_type": "code",
   "execution_count": 2,
   "id": "5cbaa9ad-55e8-4a48-82f1-b94651927c50",
   "metadata": {},
   "outputs": [
    {
     "name": "stdout",
     "output_type": "stream",
     "text": [
      "a is greater than b\n"
     ]
    }
   ],
   "source": [
    "a=80\n",
    "b=50\n",
    "if a>b:\n",
    "    print(\"a is greater than b\")"
   ]
  },
  {
   "cell_type": "code",
   "execution_count": 7,
   "id": "bf1991f8-e799-4cfa-8838-d0d6734d7001",
   "metadata": {},
   "outputs": [
    {
     "name": "stdin",
     "output_type": "stream",
     "text": [
      "Enter a :  45\n",
      "Enter b :  54\n"
     ]
    },
    {
     "name": "stdout",
     "output_type": "stream",
     "text": [
      "b is greater than a\n"
     ]
    }
   ],
   "source": [
    "a=int(input(\"Enter a : \"))\n",
    "b=int(input(\"Enter b : \"))\n",
    "if a>b:\n",
    "    print(\"a is greater than b\")\n",
    "\n",
    "else:\n",
    "    print(\"b is greater than a\")"
   ]
  },
  {
   "cell_type": "code",
   "execution_count": 8,
   "id": "3a8eb0ba-c997-4bc8-a7f6-d7269024c00d",
   "metadata": {},
   "outputs": [
    {
     "name": "stdin",
     "output_type": "stream",
     "text": [
      "Enter a :  25\n",
      "Enter b :  65\n"
     ]
    },
    {
     "name": "stdout",
     "output_type": "stream",
     "text": [
      "65 is greater than 25\n"
     ]
    }
   ],
   "source": [
    "a=int(input(\"Enter a : \"))\n",
    "b=int(input(\"Enter b : \"))\n",
    "if a>b:\n",
    "    print(f\"{a} is greater than {b}\")\n",
    "\n",
    "else:\n",
    "    print(f\"{b} is greater than {a}\")"
   ]
  },
  {
   "cell_type": "code",
   "execution_count": 10,
   "id": "af21b4c8-1370-49c2-bd93-d606f4e4a0af",
   "metadata": {},
   "outputs": [
    {
     "name": "stdin",
     "output_type": "stream",
     "text": [
      "Enter a :  -2\n"
     ]
    },
    {
     "name": "stdout",
     "output_type": "stream",
     "text": [
      "-2 is a negative number\n"
     ]
    }
   ],
   "source": [
    "a=int(input(\"Enter a : \"))\n",
    "if a>0:\n",
    "    print(f\"{a} is a positive number\")\n",
    "else:\n",
    "    print(f\"{a} is a negative number\")\n"
   ]
  },
  {
   "cell_type": "code",
   "execution_count": 11,
   "id": "025303a8-535f-4d64-b998-c13ca16b6073",
   "metadata": {},
   "outputs": [
    {
     "name": "stdin",
     "output_type": "stream",
     "text": [
      "Enter a :  0\n"
     ]
    },
    {
     "name": "stdout",
     "output_type": "stream",
     "text": [
      "0 number is zero\n"
     ]
    }
   ],
   "source": [
    "a=int(input(\"Enter a : \"))\n",
    "if a>0:\n",
    "    print(f\"{a} is a positive number\")\n",
    "elif a==0:\n",
    "    print(f\"{a} number is zero\")\n",
    "else:\n",
    "    print(f\"{a} is a negative number\")\n"
   ]
  },
  {
   "cell_type": "code",
   "execution_count": 14,
   "id": "53e4cdd0-6788-4bf3-9a7e-eea1605536e5",
   "metadata": {},
   "outputs": [
    {
     "name": "stdin",
     "output_type": "stream",
     "text": [
      "Enter a number : 13\n"
     ]
    },
    {
     "name": "stdout",
     "output_type": "stream",
     "text": [
      "13 is a odd number\n"
     ]
    }
   ],
   "source": [
    "a=int(input(\"Enter a number :\"))\n",
    "if a%2==0:\n",
    "    print(f\"{a} is a even number\")\n",
    "else:\n",
    "    print(f\"{a} is a odd number\")"
   ]
  },
  {
   "cell_type": "code",
   "execution_count": 20,
   "id": "e4adfc07-3958-4577-be33-90b9f3e0bcff",
   "metadata": {},
   "outputs": [
    {
     "name": "stdin",
     "output_type": "stream",
     "text": [
      "write sentence: yash\n",
      "write sentence: yash\n"
     ]
    },
    {
     "name": "stdout",
     "output_type": "stream",
     "text": [
      "it is same\n"
     ]
    }
   ],
   "source": [
    "a=str(input(\"write sentence:\"))\n",
    "b=str(input(\"write sentence:\"))\n",
    "if len(a)>len(b):\n",
    "    print(f\"{a} is lengthier\")\n",
    "elif len(a)==len(b):\n",
    "    print(\"it is same\")\n",
    "else:\n",
    "    print(f\"{b} is lengthier\")"
   ]
  },
  {
   "cell_type": "code",
   "execution_count": 21,
   "id": "461b245f-766f-47af-abba-2c4ed7e00495",
   "metadata": {},
   "outputs": [
    {
     "name": "stdin",
     "output_type": "stream",
     "text": [
      "enter number 18\n"
     ]
    },
    {
     "name": "stdout",
     "output_type": "stream",
     "text": [
      "it is not divisible by both\n"
     ]
    }
   ],
   "source": [
    "a=int(input(\"enter number\"))\n",
    "if(a %3==0 and a %5==0):\n",
    "    print(\"it is divisible by both\")\n",
    "else:\n",
    "    print(\"it is not divisible by both\")"
   ]
  },
  {
   "cell_type": "code",
   "execution_count": 25,
   "id": "ff206485-d787-455f-8f00-63ec8b4c876f",
   "metadata": {},
   "outputs": [
    {
     "name": "stdin",
     "output_type": "stream",
     "text": [
      "enter number 15\n"
     ]
    },
    {
     "name": "stdout",
     "output_type": "stream",
     "text": [
      "Divisible by both\n"
     ]
    }
   ],
   "source": [
    "a=int(input(\"enter number\"))\n",
    "if a %3==0:\n",
    "    if a %5==0:\n",
    "        print(\"Divisible by both\")\n",
    "    else:\n",
    "        print(\"divisible by 3\")\n",
    "else:\n",
    "    if a %5==0:\n",
    "        print(\"divisible by 5\")\n",
    "    else:\n",
    "        print(\"not divisible by either\")"
   ]
  },
  {
   "cell_type": "code",
   "execution_count": 3,
   "id": "b6a11777-5d3a-420f-8e4a-b0f22163aea1",
   "metadata": {},
   "outputs": [
    {
     "name": "stdin",
     "output_type": "stream",
     "text": [
      "year= 2001\n"
     ]
    },
    {
     "name": "stdout",
     "output_type": "stream",
     "text": [
      "2001 is not leap year\n"
     ]
    }
   ],
   "source": [
    "a=int(input(\"year=\"))\n",
    "if a%4==0:\n",
    "    print(f\"{a} is a leap year\")\n",
    "else:\n",
    "    print(f\"{a} is not leap year\")"
   ]
  },
  {
   "cell_type": "code",
   "execution_count": 9,
   "id": "19fc63ba-5171-4852-8273-2fb0d6bc248b",
   "metadata": {},
   "outputs": [],
   "source": [
    "a=80\n",
    "b=90"
   ]
  },
  {
   "cell_type": "code",
   "execution_count": 11,
   "id": "c435b04a-b447-40d8-9cd0-b8b1a8e280fe",
   "metadata": {},
   "outputs": [
    {
     "data": {
      "text/plain": [
       "170"
      ]
     },
     "execution_count": 11,
     "metadata": {},
     "output_type": "execute_result"
    }
   ],
   "source": [
    "a+b"
   ]
  },
  {
   "cell_type": "code",
   "execution_count": 29,
   "id": "4b728b3b-1142-4e2a-94b6-70c6df05b150",
   "metadata": {},
   "outputs": [
    {
     "name": "stdin",
     "output_type": "stream",
     "text": [
      "math 60\n",
      "science 80\n",
      "english 70\n",
      "computer 60\n"
     ]
    },
    {
     "name": "stdout",
     "output_type": "stream",
     "text": [
      "total = 270.0\n",
      "percentage= 67.5\n",
      "Grade=B\n"
     ]
    }
   ],
   "source": [
    "a=float(input(\"math\"))\n",
    "b=float(input(\"science\"))\n",
    "c=float(input(\"english\"))\n",
    "d=float(input(\"computer\"))\n",
    "total=a+b+c+d\n",
    "per=(total/400)*100\n",
    "print(\"total =\",total)\n",
    "print(\"percentage=\",per)\n",
    "if per<40:\n",
    "    print(\"fail\")\n",
    "elif per>=40 and per<=60:\n",
    "    print(\"Grade=C\")\n",
    "elif per>=60 and per<=80:\n",
    "    print(\"Grade=B\")\n",
    "else:\n",
    "    print(\"Grade=A\")"
   ]
  },
  {
   "cell_type": "code",
   "execution_count": 51,
   "id": "440918c3-8f3a-40cb-834e-37920f398c54",
   "metadata": {},
   "outputs": [
    {
     "name": "stdin",
     "output_type": "stream",
     "text": [
      "Weight= 80\n",
      "Height= 1.82\n"
     ]
    },
    {
     "name": "stdout",
     "output_type": "stream",
     "text": [
      "BMI= 24.151672503320853\n",
      "Healthy\n"
     ]
    }
   ],
   "source": [
    "a=float(input(\"Weight=\"))\n",
    "b=float(input(\"Height=\"))\n",
    "BMI=a/(b*b)\n",
    "print(\"BMI=\",BMI)\n",
    "if BMI<18:\n",
    "    print(\"Under Weight\")\n",
    "elif BMI>=18 and BMI<25:\n",
    "    print(\"Healthy\")\n",
    "elif BMI>=25 and BMI<30:\n",
    "    print(\"Over Weight\")\n",
    "else:\n",
    "    print(\"Obese\")"
   ]
  },
  {
   "cell_type": "code",
   "execution_count": 60,
   "id": "d59a92a9-1bba-4894-b755-01c84fba6bac",
   "metadata": {},
   "outputs": [
    {
     "name": "stdin",
     "output_type": "stream",
     "text": [
      "Alphabet: I\n"
     ]
    },
    {
     "name": "stdout",
     "output_type": "stream",
     "text": [
      "I is a vowel\n"
     ]
    }
   ],
   "source": [
    "a=input(\"Alphabet:\")\n",
    "if a in(\"a\",\"e\",\"i\",\"o\",\"u\",\"A\",\"E\",\"I\",\"O\",\"U\"):\n",
    "    print(f\"{a} is a vowel\")\n",
    "else:\n",
    "    print(f\"{a} is not a vowel\")\n",
    "    \n",
    "\n"
   ]
  },
  {
   "cell_type": "code",
   "execution_count": 64,
   "id": "7713c8ae-51ce-4f3a-9130-560678e3c434",
   "metadata": {},
   "outputs": [
    {
     "name": "stdin",
     "output_type": "stream",
     "text": [
      "Enter Anything:- 12321\n"
     ]
    },
    {
     "name": "stdout",
     "output_type": "stream",
     "text": [
      "12321 This is a Palindrome\n"
     ]
    }
   ],
   "source": [
    "a=input(\"Enter Anything:-\")\n",
    "b=a[::-1]\n",
    "if a==b:\n",
    "    print(f\"{a} This is a Palindrome\")\n",
    "else:\n",
    "    print(f\"{a} This is not Palindrome\")"
   ]
  },
  {
   "cell_type": "code",
   "execution_count": 1,
   "id": "18307ce2-01c9-405c-9c96-4a5422c6bc36",
   "metadata": {},
   "outputs": [
    {
     "name": "stdout",
     "output_type": "stream",
     "text": [
      "[1, 2, 3, 4, 5, 6]\n"
     ]
    }
   ],
   "source": [
    "l=[1,2,3,4,5,6]\n",
    "print(l)"
   ]
  },
  {
   "cell_type": "code",
   "execution_count": 3,
   "id": "68641ef2-f538-4a0a-b08f-d328c3f8bc2f",
   "metadata": {},
   "outputs": [
    {
     "data": {
      "text/plain": [
       "list"
      ]
     },
     "execution_count": 3,
     "metadata": {},
     "output_type": "execute_result"
    }
   ],
   "source": [
    "type(l)"
   ]
  },
  {
   "cell_type": "code",
   "execution_count": 11,
   "id": "b4d2f65e-30e4-4176-8556-a41d98801870",
   "metadata": {},
   "outputs": [
    {
     "data": {
      "text/plain": [
       "[1, 2, 3, 4, 5, 6, 'abc', 'type']"
      ]
     },
     "execution_count": 11,
     "metadata": {},
     "output_type": "execute_result"
    }
   ],
   "source": [
    "l=[1,2,3,4,5,6,\"abc\",\"type\"]\n",
    "l"
   ]
  },
  {
   "cell_type": "code",
   "execution_count": 27,
   "id": "c31c1e64-ff98-446f-a829-4a47159d9886",
   "metadata": {},
   "outputs": [
    {
     "data": {
      "text/plain": [
       "[1, 2, 3, 'abc', 'thc', [1, 2, 3, 'type', [1, 2, 3], 12], 34, 'mnc']"
      ]
     },
     "execution_count": 27,
     "metadata": {},
     "output_type": "execute_result"
    }
   ],
   "source": [
    "l=[1,2,3,\"abc\",\"thc\",[1,2,3,\"type\",[1,2,3],12],34,\"mnc\"]\n",
    "l"
   ]
  },
  {
   "cell_type": "code",
   "execution_count": 15,
   "id": "adc44ac5-c19e-4a4c-96b5-bea3b2c2139e",
   "metadata": {},
   "outputs": [
    {
     "data": {
      "text/plain": [
       "9"
      ]
     },
     "execution_count": 15,
     "metadata": {},
     "output_type": "execute_result"
    }
   ],
   "source": [
    "len(l)"
   ]
  },
  {
   "cell_type": "code",
   "execution_count": 19,
   "id": "1665e119-5ba9-4331-8c0b-d343d6486673",
   "metadata": {},
   "outputs": [],
   "source": [
    "l[4]=\"yash\""
   ]
  },
  {
   "cell_type": "code",
   "execution_count": 29,
   "id": "b27b769e-d387-4903-beba-3f31ce56c975",
   "metadata": {},
   "outputs": [
    {
     "data": {
      "text/plain": [
       "[1, 2, 3, 'abc', 'thc', [1, 2, 3, 'type', [1, 2, 3], 12], 34, 'mnc']"
      ]
     },
     "execution_count": 29,
     "metadata": {},
     "output_type": "execute_result"
    }
   ],
   "source": [
    "l"
   ]
  },
  {
   "cell_type": "code",
   "execution_count": 31,
   "id": "04e10c1c-2373-4086-9334-6d14d0832d5a",
   "metadata": {},
   "outputs": [
    {
     "data": {
      "text/plain": [
       "2"
      ]
     },
     "execution_count": 31,
     "metadata": {},
     "output_type": "execute_result"
    }
   ],
   "source": [
    "l[5][4][1]"
   ]
  },
  {
   "cell_type": "code",
   "execution_count": 33,
   "id": "84517043-95c9-4087-a66b-3553aa2852e2",
   "metadata": {},
   "outputs": [
    {
     "data": {
      "text/plain": [
       "['mnc', 34, [1, 2, 3, 'type', [1, 2, 3], 12], 'thc', 'abc', 3, 2, 1]"
      ]
     },
     "execution_count": 33,
     "metadata": {},
     "output_type": "execute_result"
    }
   ],
   "source": [
    "l[::-1]"
   ]
  },
  {
   "cell_type": "code",
   "execution_count": 35,
   "id": "a6b6e085-90f0-4730-979c-266ed1d8b841",
   "metadata": {},
   "outputs": [
    {
     "data": {
      "text/plain": [
       "{1, 2, 3, 4, 'tiger'}"
      ]
     },
     "execution_count": 35,
     "metadata": {},
     "output_type": "execute_result"
    }
   ],
   "source": [
    "set1={1,2,3,4,\"tiger\"}\n",
    "set1"
   ]
  },
  {
   "cell_type": "code",
   "execution_count": 37,
   "id": "ba238fb7-90dd-46a7-8104-22a7f86bec04",
   "metadata": {},
   "outputs": [
    {
     "data": {
      "text/plain": [
       "{(2, 3), 1}"
      ]
     },
     "execution_count": 37,
     "metadata": {},
     "output_type": "execute_result"
    }
   ],
   "source": [
    "set2={1,(2,3)}\n",
    "set2"
   ]
  },
  {
   "cell_type": "code",
   "execution_count": 39,
   "id": "a1f95444-05bb-49ca-96ce-1a01f411f8da",
   "metadata": {},
   "outputs": [
    {
     "data": {
      "text/plain": [
       "(2, 3, 4, {4, 5}, 'tgh', [6, 7, 8], {9, 'tg'})"
      ]
     },
     "execution_count": 39,
     "metadata": {},
     "output_type": "execute_result"
    }
   ],
   "source": [
    "t=(2,3,4,{4,5},\"tgh\",[6,7,8],{\"tg\",9})\n",
    "t"
   ]
  },
  {
   "cell_type": "code",
   "execution_count": 43,
   "id": "eab3b867-1729-4505-b067-f5a3e53d0e78",
   "metadata": {},
   "outputs": [
    {
     "data": {
      "text/plain": [
       "7"
      ]
     },
     "execution_count": 43,
     "metadata": {},
     "output_type": "execute_result"
    }
   ],
   "source": [
    "len(t)"
   ]
  },
  {
   "cell_type": "code",
   "execution_count": 45,
   "id": "b3f05f46-49e6-4889-aeb6-67a38bcc1437",
   "metadata": {},
   "outputs": [],
   "source": [
    "dict={1:\"yash\",\"b\":\"Ganpat\",2:\"Ramu\",3:\"champak\",\"c\":\"Shambhu\",4:\"ramanlal\"}"
   ]
  },
  {
   "cell_type": "code",
   "execution_count": 47,
   "id": "058e7493-ba67-4499-8561-8cdb3ba58b7a",
   "metadata": {},
   "outputs": [
    {
     "data": {
      "text/plain": [
       "'yash'"
      ]
     },
     "execution_count": 47,
     "metadata": {},
     "output_type": "execute_result"
    }
   ],
   "source": [
    "dict[1]"
   ]
  },
  {
   "cell_type": "code",
   "execution_count": 49,
   "id": "2fa3f8b2-0cb0-4241-a77e-900d40ccbcd4",
   "metadata": {},
   "outputs": [
    {
     "data": {
      "text/plain": [
       "'ramanlal'"
      ]
     },
     "execution_count": 49,
     "metadata": {},
     "output_type": "execute_result"
    }
   ],
   "source": [
    "dict[4]"
   ]
  },
  {
   "cell_type": "code",
   "execution_count": 51,
   "id": "db07e8df-3a82-4534-bbd0-f33ce986b232",
   "metadata": {},
   "outputs": [],
   "source": [
    "dict={1:\"yash\",\"b\":\"Ganpat\",2:\"Ramu\",3:\"champak\",\"c\":\"Shambhu\",4:\"ramanlal\",5:[1,2,3],6:{1:\"chaganlal\",2:\"champaklal\",3:[5,6,7],4:\"Govardhandas\"}}"
   ]
  },
  {
   "cell_type": "code",
   "execution_count": 53,
   "id": "0f8fd543-d8f9-432d-8fcc-02f4113f595b",
   "metadata": {},
   "outputs": [
    {
     "data": {
      "text/plain": [
       "{1: 'yash',\n",
       " 'b': 'Ganpat',\n",
       " 2: 'Ramu',\n",
       " 3: 'champak',\n",
       " 'c': 'Shambhu',\n",
       " 4: 'ramanlal',\n",
       " 5: [1, 2, 3],\n",
       " 6: {1: 'chaganlal', 2: 'champaklal', 3: [5, 6, 7], 4: 'Govardhandas'}}"
      ]
     },
     "execution_count": 53,
     "metadata": {},
     "output_type": "execute_result"
    }
   ],
   "source": [
    "dict"
   ]
  },
  {
   "cell_type": "code",
   "execution_count": 55,
   "id": "23721ee8-58d6-4a90-bb98-7d301a9f1b1b",
   "metadata": {},
   "outputs": [
    {
     "data": {
      "text/plain": [
       "{1: 'chaganlal', 2: 'champaklal', 3: [5, 6, 7], 4: 'Govardhandas'}"
      ]
     },
     "execution_count": 55,
     "metadata": {},
     "output_type": "execute_result"
    }
   ],
   "source": [
    "dict[6]"
   ]
  },
  {
   "cell_type": "code",
   "execution_count": 61,
   "id": "219c12d7-614d-4e74-bf7a-07b6ff52d123",
   "metadata": {},
   "outputs": [
    {
     "data": {
      "text/plain": [
       "6"
      ]
     },
     "execution_count": 61,
     "metadata": {},
     "output_type": "execute_result"
    }
   ],
   "source": [
    "dict[6][3][1]"
   ]
  },
  {
   "cell_type": "code",
   "execution_count": 65,
   "id": "ed099142-1438-46ec-93ba-47f8cb774b0b",
   "metadata": {},
   "outputs": [
    {
     "data": {
      "text/plain": [
       "'d'"
      ]
     },
     "execution_count": 65,
     "metadata": {},
     "output_type": "execute_result"
    }
   ],
   "source": [
    "dict[6][4][5]"
   ]
  },
  {
   "cell_type": "code",
   "execution_count": 73,
   "id": "d6361aed-7971-4f16-b051-1405821a4a31",
   "metadata": {},
   "outputs": [],
   "source": [
    "a={\n",
    "    \"glossary\": {\n",
    "        \"title\": \"example glossary\",\n",
    "\t\t\"GlossDiv\": {\n",
    "            \"title\": \"S\",\n",
    "\t\t\t\"GlossList\": {\n",
    "                \"GlossEntry\": {\n",
    "                    \"ID\": \"SGML\",\n",
    "\t\t\t\t\t\"SortAs\": \"SGML\",\n",
    "\t\t\t\t\t\"GlossTerm\": \"Standard Generalized Markup Language\",\n",
    "\t\t\t\t\t\"Acronym\": \"SGML\",\n",
    "\t\t\t\t\t\"Abbrev\": \"ISO 8879:1986\",\n",
    "\t\t\t\t\t\"GlossDef\": {\n",
    "                        \"para\": \"A meta-markup language, used to create markup languages such as DocBook.\",\n",
    "\t\t\t\t\t\t\"GlossSeeAlso\": [\"GML\", \"XML\"]\n",
    "                    },\n",
    "\t\t\t\t\t\"GlossSee\": \"markup\"\n",
    "                }\n",
    "            }\n",
    "        }\n",
    "    }\n",
    "}"
   ]
  },
  {
   "cell_type": "code",
   "execution_count": 75,
   "id": "e0f74d85-c5af-4312-9328-694116746655",
   "metadata": {},
   "outputs": [
    {
     "data": {
      "text/plain": [
       "1"
      ]
     },
     "execution_count": 75,
     "metadata": {},
     "output_type": "execute_result"
    }
   ],
   "source": [
    "len(a)"
   ]
  },
  {
   "cell_type": "code",
   "execution_count": 85,
   "id": "55b1a7a4-3a00-4786-bc12-56c9e04a1f82",
   "metadata": {},
   "outputs": [
    {
     "data": {
      "text/plain": [
       "'GML'"
      ]
     },
     "execution_count": 85,
     "metadata": {},
     "output_type": "execute_result"
    }
   ],
   "source": [
    "a[\"glossary\"][\"GlossDiv\"][\"GlossList\"][ \"GlossEntry\"][\"GlossDef\"][\"GlossSeeAlso\"][0]"
   ]
  },
  {
   "cell_type": "code",
   "execution_count": 93,
   "id": "777ba934-7a78-450f-9780-b23310a76c40",
   "metadata": {},
   "outputs": [
    {
     "data": {
      "text/plain": [
       "'markup'"
      ]
     },
     "execution_count": 93,
     "metadata": {},
     "output_type": "execute_result"
    }
   ],
   "source": [
    "a[\"glossary\"][\"GlossDiv\"][\"GlossList\"][ \"GlossEntry\"][\"GlossSee\"]"
   ]
  },
  {
   "cell_type": "code",
   "execution_count": 5,
   "id": "26783daa-5a24-4f25-a140-eb79adf36b33",
   "metadata": {},
   "outputs": [
    {
     "name": "stdout",
     "output_type": "stream",
     "text": [
      "0\n",
      "1\n",
      "2\n",
      "3\n",
      "4\n",
      "5\n",
      "6\n",
      "7\n",
      "8\n",
      "9\n",
      "10\n",
      "11\n"
     ]
    }
   ],
   "source": [
    "for a in range(0,12):\n",
    "    print(a)"
   ]
  },
  {
   "cell_type": "code",
   "execution_count": 11,
   "id": "f1c13bfd-0ae7-44f9-8867-7f32f3b621af",
   "metadata": {},
   "outputs": [
    {
     "name": "stdout",
     "output_type": "stream",
     "text": [
      "abc\n",
      "yas\n",
      "2\n",
      "3\n",
      "4\n",
      "['abc', 'yas', 2, 3, 4]\n"
     ]
    }
   ],
   "source": [
    "l=['abc','yas',2,3,4]\n",
    "for i in l:\n",
    "    print(i)\n",
    "print(l)"
   ]
  },
  {
   "cell_type": "code",
   "execution_count": 15,
   "id": "7b25a0d6-11cc-426b-a028-4569f9d61840",
   "metadata": {},
   "outputs": [
    {
     "name": "stdout",
     "output_type": "stream",
     "text": [
      "abc\n",
      "abc\n",
      "abc\n",
      "yxz\n"
     ]
    }
   ],
   "source": [
    "l=['abc','yxz']\n",
    "for i in l:\n",
    "    print(l[0])\n",
    "    print(i)"
   ]
  },
  {
   "cell_type": "code",
   "execution_count": 17,
   "id": "7b53bde5-936c-49f9-b615-af1717f6f55f",
   "metadata": {},
   "outputs": [
    {
     "name": "stdout",
     "output_type": "stream",
     "text": [
      "Odd number 1\n",
      "Even number 2\n",
      "Odd number 3\n",
      "Even number 4\n",
      "Odd number 5\n",
      "Even number 6\n",
      "Odd number 7\n",
      "Even number 8\n",
      "Odd number 9\n",
      "Even number 10\n"
     ]
    }
   ],
   "source": [
    "for i in range(1,11):\n",
    "    if i%2==0:\n",
    "        print('Even number',i)\n",
    "    else:\n",
    "        print('Odd number',i)"
   ]
  },
  {
   "cell_type": "code",
   "execution_count": 21,
   "id": "9a0383ac-7af4-47d3-ad0a-9c1e35b46a33",
   "metadata": {},
   "outputs": [
    {
     "name": "stdout",
     "output_type": "stream",
     "text": [
      "Even Number 2\n",
      "Odd Number 3\n",
      "Even Number 6\n",
      "Odd Number 5\n",
      "Even Number 6\n",
      "Odd Number 7\n",
      "Even Number 78\n",
      "Odd Number 1\n"
     ]
    }
   ],
   "source": [
    "l=[2,3,6,5,6,7,78,1]\n",
    "for i in l:\n",
    "    if i%2==0:\n",
    "        print('Even Number', i)\n",
    "    else:\n",
    "        print('Odd Number',i)"
   ]
  },
  {
   "cell_type": "code",
   "execution_count": 33,
   "id": "199d890d-5e7d-461a-b534-58655e5d2aa9",
   "metadata": {},
   "outputs": [
    {
     "name": "stdin",
     "output_type": "stream",
     "text": [
      "Enter the Range= 4\n"
     ]
    },
    {
     "name": "stdout",
     "output_type": "stream",
     "text": [
      "* * * * \n",
      "\n",
      "* * * * \n",
      "\n",
      "* * * * \n",
      "\n",
      "* * * * \n",
      "\n"
     ]
    }
   ],
   "source": [
    "n=int(input(\"Enter the Range=\"))\n",
    "for i in range(n):\n",
    "    for j in range(n):\n",
    "        print(\"*\", end=\" \")\n",
    "    print(\"\\n\")"
   ]
  },
  {
   "cell_type": "code",
   "execution_count": 37,
   "id": "93beb61f-d651-4be1-9f4e-252ce393b85c",
   "metadata": {},
   "outputs": [
    {
     "data": {
      "text/plain": [
       "dict_values(['shivam', 'deep', 'prit', 'riya'])"
      ]
     },
     "execution_count": 37,
     "metadata": {},
     "output_type": "execute_result"
    }
   ],
   "source": [
    "dict1={1:'shivam',2:'deep',3:'prit',4:'riya'}\n",
    "dict1.values()"
   ]
  },
  {
   "cell_type": "code",
   "execution_count": 41,
   "id": "eb964d0a-7e82-46c4-a594-55ebe588d120",
   "metadata": {},
   "outputs": [
    {
     "data": {
      "text/plain": [
       "dict_keys([1, 2, 3, 4])"
      ]
     },
     "execution_count": 41,
     "metadata": {},
     "output_type": "execute_result"
    }
   ],
   "source": [
    "dict1.keys()"
   ]
  },
  {
   "cell_type": "code",
   "execution_count": 45,
   "id": "35635d01-7fb9-4341-aacd-348a038c3e90",
   "metadata": {},
   "outputs": [
    {
     "name": "stdout",
     "output_type": "stream",
     "text": [
      "1\n",
      "2\n",
      "3\n",
      "4\n"
     ]
    }
   ],
   "source": [
    "for i in dict1.keys():\n",
    "    print(i)"
   ]
  },
  {
   "cell_type": "code",
   "execution_count": 47,
   "id": "387bcc77-f64d-4185-9af8-78fa22a23632",
   "metadata": {},
   "outputs": [
    {
     "name": "stdout",
     "output_type": "stream",
     "text": [
      "shivam\n",
      "deep\n",
      "prit\n",
      "riya\n"
     ]
    }
   ],
   "source": [
    "for i in dict1.values():\n",
    "    print(i)"
   ]
  },
  {
   "cell_type": "code",
   "execution_count": 49,
   "id": "6fcc9f56-2592-4a05-8dc5-9227f6d4d70e",
   "metadata": {},
   "outputs": [
    {
     "name": "stdout",
     "output_type": "stream",
     "text": [
      "1\n",
      "5\n",
      "4\n",
      "5\n"
     ]
    }
   ],
   "source": [
    "l=[1,24,5,45,4,5,23,21]\n",
    "for i in l:\n",
    "    if i<10:\n",
    "        print(i)"
   ]
  },
  {
   "cell_type": "code",
   "execution_count": 55,
   "id": "81ca5c0a-2d22-4571-9e95-78e0c292df76",
   "metadata": {},
   "outputs": [
    {
     "name": "stdin",
     "output_type": "stream",
     "text": [
      "enter the value of n:  4\n"
     ]
    },
    {
     "name": "stdout",
     "output_type": "stream",
     "text": [
      "* \n",
      "\n",
      "* * \n",
      "\n",
      "* * * \n",
      "\n",
      "* * * * \n",
      "\n"
     ]
    }
   ],
   "source": [
    "n=int(input(\"enter the value of n: \"))\n",
    "for i in range(n):\n",
    "    for j in range(i+1):\n",
    "        print(\"*\",end=\" \")\n",
    "    print(\"\\n\")"
   ]
  },
  {
   "cell_type": "code",
   "execution_count": 59,
   "id": "3a4dfc80-52f6-4984-8105-6176b9eb9e11",
   "metadata": {},
   "outputs": [
    {
     "name": "stdin",
     "output_type": "stream",
     "text": [
      "Enter the value of n: 5\n"
     ]
    },
    {
     "name": "stdout",
     "output_type": "stream",
     "text": [
      "1 \n",
      "\n",
      "2 2 \n",
      "\n",
      "3 3 3 \n",
      "\n",
      "4 4 4 4 \n",
      "\n",
      "5 5 5 5 5 \n",
      "\n"
     ]
    }
   ],
   "source": [
    "n=int(input(\"Enter the value of n:\"))\n",
    "for i in range(n):\n",
    "    for j in range(i+1):\n",
    "        print(i+1,end=\" \")\n",
    "    print(\"\\n\")"
   ]
  },
  {
   "cell_type": "code",
   "execution_count": 61,
   "id": "7075a21c-3241-4b7c-9ee9-69076571083e",
   "metadata": {},
   "outputs": [
    {
     "name": "stdin",
     "output_type": "stream",
     "text": [
      "Enter the value of n: 4\n"
     ]
    },
    {
     "name": "stdout",
     "output_type": "stream",
     "text": [
      "1 \n",
      "\n",
      "1 2 \n",
      "\n",
      "1 2 3 \n",
      "\n",
      "1 2 3 4 \n",
      "\n"
     ]
    }
   ],
   "source": [
    "n=int(input(\"Enter the value of n:\"))\n",
    "for i in range(n):\n",
    "    for j in range(i+1):\n",
    "        print(j+1,end=\" \")\n",
    "    print(\"\\n\")"
   ]
  },
  {
   "cell_type": "code",
   "execution_count": 67,
   "id": "a6bee56b-95af-41e4-a465-f63df858773f",
   "metadata": {},
   "outputs": [
    {
     "name": "stdin",
     "output_type": "stream",
     "text": [
      "Enter number of row= 4\n"
     ]
    },
    {
     "name": "stdout",
     "output_type": "stream",
     "text": [
      "* * * * \n",
      "* * * \n",
      "* * \n",
      "* \n"
     ]
    }
   ],
   "source": [
    "a=int(input(\"Enter number of row=\"))\n",
    "for i in range (a,0,-1):\n",
    "    for j in range(0,i):\n",
    "        print(\"*\",end=\" \")\n",
    "    print()\n",
    "    "
   ]
  },
  {
   "cell_type": "code",
   "execution_count": 74,
   "id": "56c684fa-ccfb-4679-86d5-40049fac9cef",
   "metadata": {},
   "outputs": [
    {
     "name": "stdin",
     "output_type": "stream",
     "text": [
      "Enter the value of n: 5\n"
     ]
    },
    {
     "name": "stdout",
     "output_type": "stream",
     "text": [
      "A \n",
      "\n",
      "A B \n",
      "\n",
      "A B C \n",
      "\n",
      "A B C D \n",
      "\n",
      "A B C D E \n",
      "\n"
     ]
    }
   ],
   "source": [
    "n=int(input(\"Enter the value of n:\"))\n",
    "for i in range(n):\n",
    "    for j in range(i+1):\n",
    "        print(chr(j+65),end=\" \")\n",
    "    print(\"\\n\")"
   ]
  },
  {
   "cell_type": "code",
   "execution_count": 91,
   "id": "bf39269a-4f77-4a4a-81ff-553f4ca2eb00",
   "metadata": {},
   "outputs": [
    {
     "name": "stdin",
     "output_type": "stream",
     "text": [
      "Enter the value of n: 5\n"
     ]
    },
    {
     "name": "stdout",
     "output_type": "stream",
     "text": [
      "A \n",
      "\n",
      "B B \n",
      "\n",
      "C C C \n",
      "\n",
      "D D D D \n",
      "\n",
      "E E E E E \n",
      "\n"
     ]
    }
   ],
   "source": [
    "n=int(input(\"Enter the value of n:\"))\n",
    "for i in range(n):\n",
    "    for j in range(i+1):    \n",
    "       print(chr(i+65),end=\" \")\n",
    "    print(\"\\n\")"
   ]
  },
  {
   "cell_type": "code",
   "execution_count": 113,
   "id": "a5a72157-5516-474a-8efa-b13bc351424a",
   "metadata": {},
   "outputs": [
    {
     "name": "stdin",
     "output_type": "stream",
     "text": [
      "Enter number of row= 5\n"
     ]
    },
    {
     "name": "stdout",
     "output_type": "stream",
     "text": [
      "*  \n",
      "* *  \n",
      "* * *  \n",
      "* * * *  \n",
      "* * * * *  \n",
      "* * * * * \n",
      "* * * * \n",
      "* * * \n",
      "* * \n",
      "* \n"
     ]
    }
   ],
   "source": [
    "a=int(input(\"Enter number of row=\"))\n",
    "for i in range(n):\n",
    "    for j in range(i+1):\n",
    "        print(\"*\",end=\" \")\n",
    "    print(\" \")\n",
    "for i in range (a,0,-1):\n",
    "    for j in range(0,i):\n",
    "        print(\"*\",end=\" \")\n",
    "    print()"
   ]
  },
  {
   "cell_type": "code",
   "execution_count": 115,
   "id": "82721fcb-27c9-41e8-8714-8d147e74653b",
   "metadata": {},
   "outputs": [
    {
     "name": "stdin",
     "output_type": "stream",
     "text": [
      "Enter number of row= 5\n"
     ]
    },
    {
     "name": "stdout",
     "output_type": "stream",
     "text": [
      " \n",
      "*  \n",
      "* *  \n",
      "* * *  \n",
      "* * * *  \n",
      "* * * * * \n",
      "* * * * \n",
      "* * * \n",
      "* * \n",
      "* \n"
     ]
    }
   ],
   "source": [
    "a=int(input(\"Enter number of row=\"))\n",
    "for i in range(n):\n",
    "    for j in range(i):\n",
    "        print(\"*\",end=\" \")\n",
    "    print(\" \")\n",
    "for i in range (a,0,-1):\n",
    "    for j in range(0,i):\n",
    "        print(\"*\",end=\" \")\n",
    "    print()"
   ]
  },
  {
   "cell_type": "code",
   "execution_count": 131,
   "id": "c8887957-225d-4183-84c8-a2fa508989c0",
   "metadata": {},
   "outputs": [
    {
     "name": "stdin",
     "output_type": "stream",
     "text": [
      "Enter the number = 5\n"
     ]
    },
    {
     "name": "stdout",
     "output_type": "stream",
     "text": [
      "5 x 1 = 5\n",
      "5 x 2 = 10\n",
      "5 x 3 = 15\n",
      "5 x 4 = 20\n",
      "5 x 5 = 25\n",
      "5 x 6 = 30\n",
      "5 x 7 = 35\n",
      "5 x 8 = 40\n",
      "5 x 9 = 45\n",
      "5 x 10 = 50\n"
     ]
    }
   ],
   "source": [
    "a=int(input(\"Enter the number =\"))\n",
    "for i in range(1,11):\n",
    "    print(a,'x',i,'=',a*i)"
   ]
  },
  {
   "cell_type": "code",
   "execution_count": 21,
   "id": "6df9c735-b56f-4c1d-b3f0-6dca35974044",
   "metadata": {},
   "outputs": [
    {
     "name": "stdin",
     "output_type": "stream",
     "text": [
      "Enter the number for row and col 5\n"
     ]
    },
    {
     "name": "stdout",
     "output_type": "stream",
     "text": [
      "* * * * * \n",
      "*       * \n",
      "*       * \n",
      "*       * \n",
      "* * * * * \n"
     ]
    }
   ],
   "source": [
    "num=int(input(\"Enter the number for row and col\"))\n",
    "for i in range(num):\n",
    "    for j in range(num):\n",
    "        if i==0 or i==num-1 or j==0 or j==num-1:\n",
    "            print('*',end=\" \")\n",
    "        else:\n",
    "            print(\" \",end=\" \")\n",
    "    print()"
   ]
  },
  {
   "cell_type": "code",
   "execution_count": 35,
   "id": "8c9576de-0737-42f1-8f99-2f396b01ffe3",
   "metadata": {},
   "outputs": [
    {
     "name": "stdin",
     "output_type": "stream",
     "text": [
      "Enter Alphabet Y\n"
     ]
    },
    {
     "name": "stdout",
     "output_type": "stream",
     "text": [
      "* * * * * \n",
      "*       * \n",
      "*   Y   * \n",
      "*       * \n",
      "* * * * * \n"
     ]
    }
   ],
   "source": [
    "a=str(input(\"Enter Alphabet\"))\n",
    "for row in range(5):\n",
    "    for col in range(5):\n",
    "        if(row in(0,4)):\n",
    "            print(\"*\",end=\" \")\n",
    "        elif(row in(1,2,3,4)) and (col in(0,4)):\n",
    "            print(\"*\",end=\" \")\n",
    "        elif(row in(0,2)) and (col in(0,2)):\n",
    "            print(a,end=' ')\n",
    "        else:\n",
    "            print(\" \",end=\" \")\n",
    "    print()"
   ]
  },
  {
   "cell_type": "code",
   "execution_count": 73,
   "id": "6f36a7bc-9103-4d61-ad06-7f3fb6df0ea1",
   "metadata": {},
   "outputs": [
    {
     "name": "stdin",
     "output_type": "stream",
     "text": [
      "Enter the number for row and col 5\n"
     ]
    },
    {
     "name": "stdout",
     "output_type": "stream",
     "text": [
      "*         \n",
      "* *       \n",
      "*   *     \n",
      "*     *   \n",
      "* * * * * \n"
     ]
    }
   ],
   "source": [
    "num=int(input(\"Enter the number for row and col\"))\n",
    "for i in range(1,num+1):\n",
    "   for j in range(1,num+1):\n",
    "       if (i==j) or (j==1) or (i==num):\n",
    "           print(\"*\",end=\" \")\n",
    "       else:\n",
    "           print(\" \",end=\" \")\n",
    "   print()"
   ]
  },
  {
   "cell_type": "code",
   "execution_count": 83,
   "id": "99c98106-c3f8-4f22-833e-afd45e949205",
   "metadata": {},
   "outputs": [
    {
     "name": "stdin",
     "output_type": "stream",
     "text": [
      "Enter the number of rows 5\n"
     ]
    },
    {
     "name": "stdout",
     "output_type": "stream",
     "text": [
      "      *\n",
      "     * *\n",
      "    * * *\n",
      "   * * * *\n",
      "  * * * * *\n",
      "   * * * *\n",
      "    * * *\n",
      "     * *\n",
      "      *\n"
     ]
    }
   ],
   "source": [
    "row=int(input(\"Enter the number of rows\"))\n",
    "for i in range(row):\n",
    "    print(\" \"*(row-i)+\" *\"*(i+1))\n",
    "for j in range(row-1):\n",
    "    print(\" \"*(j+2)+\" *\"*(row -1-j))"
   ]
  },
  {
   "cell_type": "code",
   "execution_count": 93,
   "id": "7ccc735a-b83e-4071-8480-d8b0aa73b5ec",
   "metadata": {},
   "outputs": [
    {
     "name": "stdin",
     "output_type": "stream",
     "text": [
      "Enter the number of rows 5\n"
     ]
    },
    {
     "name": "stdout",
     "output_type": "stream",
     "text": [
      "      *\n",
      "     * *\n",
      "    * * *\n",
      "   * * * *\n",
      "  * * * * *\n"
     ]
    }
   ],
   "source": [
    "row=int(input(\"Enter the number of rows\"))\n",
    "for i in range(row):\n",
    "    print(\" \"*(row-i)+\" *\"*(i+1))\n",
    "          "
   ]
  },
  {
   "cell_type": "code",
   "execution_count": 104,
   "id": "41d9165a-2231-4a82-9c66-39cfda681534",
   "metadata": {},
   "outputs": [
    {
     "name": "stdin",
     "output_type": "stream",
     "text": [
      "enter the value of n: 5\n"
     ]
    },
    {
     "name": "stdout",
     "output_type": "stream",
     "text": [
      "        * \n",
      "      *   * \n",
      "    *       * \n",
      "  *           * \n",
      "* * * * * * * * * \n"
     ]
    }
   ],
   "source": [
    "n=int(input(\"enter the value of n:\"))\n",
    "for i in range (1,n+1):\n",
    "    for j in range(n-i):\n",
    "        print(\" \",end=\" \")\n",
    "    for k in range(2*i-1):\n",
    "        if k==0 or k==2*i-2:\n",
    "            print(\"*\",end=\" \")\n",
    "        else:\n",
    "            if i==n:\n",
    "                print(\"*\",end=\" \")\n",
    "            else:\n",
    "                print(\" \",end=\" \")\n",
    "    print()         "
   ]
  },
  {
   "cell_type": "code",
   "execution_count": 132,
   "id": "f1566412-4181-490b-92f7-30ff0063cb04",
   "metadata": {},
   "outputs": [
    {
     "name": "stdin",
     "output_type": "stream",
     "text": [
      "enter the value of n: 5\n"
     ]
    },
    {
     "name": "stdout",
     "output_type": "stream",
     "text": [
      "    *\n",
      "   * *\n",
      "  *   *\n",
      " *     *\n",
      "*       *\n",
      " *     *\n",
      "  *   *\n",
      "   * *\n",
      "    *\n"
     ]
    }
   ],
   "source": [
    "n=int(input(\"enter the value of n:\"))\n",
    "for i in range (1,n+1):\n",
    "    for j in range(1,n-i+1):\n",
    "        print(\" \",end=\"\")\n",
    "    for j in range(1,2*i):\n",
    "        if j==1 or j==2*i-1:\n",
    "            print(\"*\",end=\"\")\n",
    "        else:\n",
    "            print(\" \",end=\"\")\n",
    "    print()\n",
    "for i in range(n-1,0,-1):\n",
    "    for j in range (1,n-i+1):\n",
    "        print(\" \",end=\"\")\n",
    "    for j in range(1,2*i):\n",
    "        if j==1 or j==2*i-1:\n",
    "            print(\"*\",end=\"\")\n",
    "        else:\n",
    "            print(\" \",end=\"\")\n",
    "    print()"
   ]
  },
  {
   "cell_type": "code",
   "execution_count": 17,
   "id": "583304b4-4647-4519-b96f-268a8a912bd6",
   "metadata": {},
   "outputs": [
    {
     "name": "stdout",
     "output_type": "stream",
     "text": [
      "A B C D E F \n",
      "G H I J K L \n",
      "M N O P Q R \n",
      "S T U V W X \n",
      "Y Z [ \\ ] ^ \n",
      "_ ` a b c d \n"
     ]
    }
   ],
   "source": [
    "size=6\n",
    "count=0\n",
    "for i in range(size):\n",
    "    for j in range(size):\n",
    "        print(chr(65+count),end=\" \")\n",
    "        count +=1\n",
    "    print()"
   ]
  },
  {
   "cell_type": "code",
   "execution_count": 23,
   "id": "a2b086cd-62c9-4dfa-81c3-f8e37f38dba0",
   "metadata": {},
   "outputs": [
    {
     "name": "stdout",
     "output_type": "stream",
     "text": [
      "* * * *   \n",
      "*       * \n",
      "*       * \n",
      "*       * \n",
      "*       * \n",
      "*       * \n",
      "* * * *   \n"
     ]
    }
   ],
   "source": [
    "for row in range(7):\n",
    "    for col in range(5):\n",
    "        if(col==0) or (col==4 and (row!=0 and row!=6)) or((row==0 or row==6) and (col>0 and col<4)):\n",
    "            print(\"*\",end=\" \")\n",
    "        else:\n",
    "            print(end=\"  \")\n",
    "    print()"
   ]
  },
  {
   "cell_type": "code",
   "execution_count": 27,
   "id": "d9383e1c-c675-4be8-b32b-9e302a529402",
   "metadata": {},
   "outputs": [
    {
     "name": "stdout",
     "output_type": "stream",
     "text": [
      "* * * *   \n",
      "*       * \n",
      "*       * \n",
      "* * * *   \n",
      "*       * \n",
      "*       * \n",
      "* * * *   \n"
     ]
    }
   ],
   "source": [
    "for row in range(7):\n",
    "    for col in range(5):\n",
    "        if(col==0) or (col==4 and (row!=0 and row!=6 and row!=3)) or((row==0 or row==6 or row==3) and (col>0 and col<4)):\n",
    "            print(\"*\",end=\" \")\n",
    "        else:\n",
    "            print(end=\"  \")\n",
    "    print()"
   ]
  },
  {
   "cell_type": "code",
   "execution_count": 33,
   "id": "2d59ee0c-779a-4323-b4fe-3d5712f5c528",
   "metadata": {},
   "outputs": [
    {
     "name": "stdout",
     "output_type": "stream",
     "text": [
      "*       * \n",
      "*       * \n",
      "*       * \n",
      "* * * * * \n",
      "*       * \n",
      "*       * \n",
      "*       * \n"
     ]
    }
   ],
   "source": [
    "for row in range(7):\n",
    " for col in range(5):\n",
    "    if(col==0) or (col==4) or (row==3):\n",
    "        print(\"*\",end=\" \")\n",
    "    else:\n",
    "        print(end=\"  \")\n",
    " print()"
   ]
  },
  {
   "cell_type": "code",
   "execution_count": 37,
   "id": "0b0f2c7c-dcb1-4d40-92b7-71fde2f2e4c0",
   "metadata": {},
   "outputs": [
    {
     "name": "stdout",
     "output_type": "stream",
     "text": [
      "* * * * * \n",
      "    *     \n",
      "    *     \n",
      "    *     \n",
      "    *     \n",
      "    *     \n",
      "* * * * * \n"
     ]
    }
   ],
   "source": [
    "for row in range(7):\n",
    "    for col in range(5):\n",
    "        if(row==0) or (row==6) or (col==2):\n",
    "            print(\"*\",end=\" \")\n",
    "        else:\n",
    "            print(end=\"  \")\n",
    "    print()"
   ]
  },
  {
   "cell_type": "code",
   "execution_count": 39,
   "id": "b1372e38-6749-4241-998c-7b9084a54ec5",
   "metadata": {},
   "outputs": [
    {
     "name": "stdout",
     "output_type": "stream",
     "text": [
      "1\n",
      "2\n",
      "3\n",
      "4\n",
      "5\n"
     ]
    }
   ],
   "source": [
    "a=1\n",
    "while a<6:\n",
    "    print(a)\n",
    "    a=a+1"
   ]
  },
  {
   "cell_type": "code",
   "execution_count": 41,
   "id": "9e11bda4-8107-48fc-b890-36c0be5cfd98",
   "metadata": {},
   "outputs": [
    {
     "name": "stdout",
     "output_type": "stream",
     "text": [
      "6\n",
      "5\n",
      "4\n",
      "3\n",
      "2\n",
      "1\n"
     ]
    }
   ],
   "source": [
    "a=6\n",
    "while a>0:\n",
    "    print(a)\n",
    "    a=a-1"
   ]
  },
  {
   "cell_type": "code",
   "execution_count": 43,
   "id": "d3d7c1e0-115f-42e6-8772-bd1e2cd63488",
   "metadata": {},
   "outputs": [
    {
     "name": "stdin",
     "output_type": "stream",
     "text": [
      "Enter a number(-1 to quit):  1\n",
      "Enter a number(-1 to quit):  2\n",
      "Enter a number(-1 to quit):  3\n",
      "Enter a number(-1 to quit):  4\n",
      "Enter a number(-1 to quit):  5\n",
      "Enter a number(-1 to quit):  -3\n",
      "Enter a number(-1 to quit):  -1\n"
     ]
    }
   ],
   "source": [
    "a=int(input(\"Enter a number(-1 to quit): \"))\n",
    "while a!=-1:\n",
    "    a=int(input(\"Enter a number(-1 to quit): \"))"
   ]
  },
  {
   "cell_type": "code",
   "execution_count": 64,
   "id": "6190b28d-494a-4966-9113-a9ede70af1ef",
   "metadata": {},
   "outputs": [
    {
     "name": "stdout",
     "output_type": "stream",
     "text": [
      "10\n",
      "9\n",
      "8\n",
      "7\n",
      "6\n",
      "5\n",
      "4\n",
      "3\n",
      "2\n",
      "1\n",
      "BYE\n"
     ]
    }
   ],
   "source": [
    "a=10 \n",
    "while a>0:\n",
    "    print(a)\n",
    "    a=a-1\n",
    "    continue\n",
    "print(\"BYE\")\n",
    "   "
   ]
  },
  {
   "cell_type": "code",
   "execution_count": 74,
   "id": "16285f95-472e-440f-8de9-6c1dd0753f24",
   "metadata": {},
   "outputs": [
    {
     "name": "stdout",
     "output_type": "stream",
     "text": [
      "10\n",
      "9\n",
      "8\n",
      "7\n",
      "6\n",
      "5\n",
      "4\n",
      "bye\n"
     ]
    }
   ],
   "source": [
    "a=10\n",
    "while a>0:\n",
    "    print(a)\n",
    "    a=a-1\n",
    "    if a==3:\n",
    "       break\n",
    "print(\"bye\")"
   ]
  },
  {
   "cell_type": "code",
   "execution_count": 78,
   "id": "5a686f48-dbb9-4c26-a76a-6a43bfaf63a6",
   "metadata": {},
   "outputs": [
    {
     "name": "stdout",
     "output_type": "stream",
     "text": [
      "*\n",
      "**\n",
      "***\n",
      "****\n"
     ]
    }
   ],
   "source": [
    "i=1\n",
    "j=5\n",
    "while i<j:\n",
    "    print(i*'*')\n",
    "    i=i+1"
   ]
  },
  {
   "cell_type": "code",
   "execution_count": 84,
   "id": "2c236c48-003f-4701-a578-3aa71892c8f6",
   "metadata": {},
   "outputs": [
    {
     "name": "stdout",
     "output_type": "stream",
     "text": [
      "*****\n",
      "****\n",
      "***\n",
      "**\n",
      "*\n"
     ]
    }
   ],
   "source": [
    "i=5\n",
    "j=0\n",
    "while i>j:\n",
    "    print(i*'*')\n",
    "    i=i-1"
   ]
  },
  {
   "cell_type": "code",
   "execution_count": 86,
   "id": "b1c4c45e-67f0-47d9-b4dd-4d307950deec",
   "metadata": {},
   "outputs": [
    {
     "name": "stdin",
     "output_type": "stream",
     "text": [
      "Enter number of row: 5\n"
     ]
    },
    {
     "name": "stdout",
     "output_type": "stream",
     "text": [
      "    *\n",
      "   ***\n",
      "  *****\n",
      " *******\n",
      "*********\n"
     ]
    }
   ],
   "source": [
    "row=int(input(\"Enter number of row:\"))\n",
    "k=0\n",
    "for i in range(1,row+1):\n",
    "    for space in range(1,(row-i)+1):\n",
    "        print(end=\" \")\n",
    "\n",
    "    while k!=(2*i-1):\n",
    "        print(\"*\",end=\"\")\n",
    "        k += 1\n",
    "    k=0\n",
    "    print()"
   ]
  },
  {
   "cell_type": "code",
   "execution_count": 1,
   "id": "35faece0-07f4-4037-9dcd-2d8cee9ad31d",
   "metadata": {},
   "outputs": [
    {
     "name": "stdout",
     "output_type": "stream",
     "text": [
      "    *\n",
      "   **\n",
      "  ***\n",
      " ****\n",
      "*****\n"
     ]
    }
   ],
   "source": [
    "n=5\n",
    "i=1\n",
    "while i<=n:\n",
    "    print(' '*(n-i)+'*'*i)\n",
    "    i+=1"
   ]
  },
  {
   "cell_type": "code",
   "execution_count": 3,
   "id": "71a91cb4-4b93-4f47-8b03-9f9513405264",
   "metadata": {},
   "outputs": [
    {
     "name": "stdout",
     "output_type": "stream",
     "text": [
      "*****\n",
      " ****\n",
      "  ***\n",
      "   **\n",
      "    *\n"
     ]
    }
   ],
   "source": [
    "n=5\n",
    "i=n\n",
    "while i>0:\n",
    "    print(' '*(n-i)+'*'*i)\n",
    "    i-=1"
   ]
  },
  {
   "cell_type": "code",
   "execution_count": 9,
   "id": "f4acb0a5-f813-4a25-b8f6-bc6a260674fb",
   "metadata": {},
   "outputs": [
    {
     "name": "stdout",
     "output_type": "stream",
     "text": [
      "Sum: 55\n"
     ]
    }
   ],
   "source": [
    "total=0\n",
    "number=1\n",
    "while number<=10:\n",
    "    total+=number\n",
    "    number+=1\n",
    "print(\"Sum:\",total)"
   ]
  },
  {
   "cell_type": "code",
   "execution_count": 13,
   "id": "b3955571-e33c-44ae-bf58-875249b2d08d",
   "metadata": {},
   "outputs": [
    {
     "name": "stdin",
     "output_type": "stream",
     "text": [
      "Type 'STOP' to end: gkf\n",
      "Type 'STOP' to end: eafbjhuu\n",
      "Type 'STOP' to end: STOP\n"
     ]
    }
   ],
   "source": [
    "while True:\n",
    "    response=input(\"Type 'STOP' to end:\")\n",
    "    if response=='STOP':\n",
    "        break"
   ]
  },
  {
   "cell_type": "code",
   "execution_count": 1,
   "id": "d5a93bf9-9c57-4079-aedd-5937604a3b3a",
   "metadata": {},
   "outputs": [
    {
     "name": "stdout",
     "output_type": "stream",
     "text": [
      "Factorial: 120\n"
     ]
    }
   ],
   "source": [
    "n=5\n",
    "factorial=1\n",
    "while n>1:\n",
    "    factorial*=n\n",
    "    n-=1\n",
    "print(\"Factorial:\",factorial)\n",
    "    \n",
    "    "
   ]
  },
  {
   "cell_type": "code",
   "execution_count": 3,
   "id": "39515d14-1e04-4466-8ac6-824cff644187",
   "metadata": {},
   "outputs": [
    {
     "name": "stdout",
     "output_type": "stream",
     "text": [
      "1\n",
      "2\n",
      "Fizz\n",
      "4\n",
      "Buzz\n",
      "Fizz\n",
      "7\n",
      "8\n",
      "Fizz\n",
      "Buzz\n",
      "11\n",
      "Fizz\n",
      "13\n",
      "14\n",
      "FizzBuzz\n"
     ]
    }
   ],
   "source": [
    "number=1\n",
    "while number<=15:\n",
    "    if number%3==0 and number%5==0:\n",
    "        print(\"FizzBuzz\")\n",
    "    elif number%3==0:\n",
    "        print(\"Fizz\")\n",
    "    elif number%5==0:\n",
    "        print(\"Buzz\")\n",
    "    else:\n",
    "        print(number)\n",
    "    number+=1"
   ]
  },
  {
   "cell_type": "code",
   "execution_count": 7,
   "id": "9dc4ab1a-7b4b-424b-925f-9a25d1d7ec2b",
   "metadata": {},
   "outputs": [
    {
     "name": "stdin",
     "output_type": "stream",
     "text": [
      "Enter a number(-1 to stop): 4456\n",
      "Enter a number(-1 to stop): 52\n",
      "Enter a number(-1 to stop): 132\n",
      "Enter a number(-1 to stop): 1556\n",
      "Enter a number(-1 to stop): 545\n",
      "Enter a number(-1 to stop): 6462\n",
      "Enter a number(-1 to stop): -1\n"
     ]
    },
    {
     "name": "stdout",
     "output_type": "stream",
     "text": [
      "Maximum number: 6462\n"
     ]
    }
   ],
   "source": [
    "max_number=float('-inf')\n",
    "number=0\n",
    "while number!=-1:\n",
    "    number=int(input(\"Enter a number(-1 to stop):\"))\n",
    "    if number>max_number and number!=-1:\n",
    "        max_number=number\n",
    "print(\"Maximum number:\",max_number)"
   ]
  },
  {
   "cell_type": "code",
   "execution_count": 9,
   "id": "52297c36-1810-4e8e-b58a-8635b6c8fcfa",
   "metadata": {},
   "outputs": [
    {
     "name": "stdout",
     "output_type": "stream",
     "text": [
      "6\n",
      "5\n",
      "4\n",
      "3\n",
      "2\n",
      "1\n",
      "Time's Up\n"
     ]
    }
   ],
   "source": [
    "import time\n",
    "countdown=6\n",
    "while countdown>0:\n",
    "    print(countdown)\n",
    "    time.sleep(1)\n",
    "    countdown-=1\n",
    "print(\"Time's Up\")"
   ]
  },
  {
   "cell_type": "code",
   "execution_count": 11,
   "id": "f37952b1-89e3-4a95-a7f5-8c862c3f7b53",
   "metadata": {},
   "outputs": [],
   "source": [
    "def function_name():\n",
    "    pass\n",
    "function_name()"
   ]
  },
  {
   "cell_type": "code",
   "execution_count": 13,
   "id": "82e45887-4a9a-425c-878f-d00bd7f060b7",
   "metadata": {},
   "outputs": [
    {
     "name": "stdout",
     "output_type": "stream",
     "text": [
      "Hi I am Yash\n"
     ]
    }
   ],
   "source": [
    "def greetings():\n",
    "    print(\"Hi I am Yash\")\n",
    "greetings()"
   ]
  },
  {
   "cell_type": "code",
   "execution_count": 15,
   "id": "3cabb412-af01-4eb4-b0a6-4b202a8d5e7f",
   "metadata": {},
   "outputs": [
    {
     "name": "stdout",
     "output_type": "stream",
     "text": [
      "Hello World\n"
     ]
    }
   ],
   "source": [
    "def test():\n",
    "    print(\"Hello World\")\n",
    "test()"
   ]
  },
  {
   "cell_type": "code",
   "execution_count": 17,
   "id": "388d7007-9249-4447-bf40-a1667692b13d",
   "metadata": {},
   "outputs": [
    {
     "name": "stdin",
     "output_type": "stream",
     "text": [
      " 15\n",
      " 15\n"
     ]
    },
    {
     "name": "stdout",
     "output_type": "stream",
     "text": [
      "30\n"
     ]
    }
   ],
   "source": [
    "def test(a,b):\n",
    "    print(a+b)\n",
    "a=int(input())\n",
    "b=int(input())\n",
    "\n",
    "test(a,b)"
   ]
  },
  {
   "cell_type": "code",
   "execution_count": 27,
   "id": "5022a9f6-2e3b-4c27-8f43-f3fd83c22dda",
   "metadata": {},
   "outputs": [
    {
     "name": "stdin",
     "output_type": "stream",
     "text": [
      "enter the value of weight in kg: 80\n",
      "enter the value of heightin meter: 2\n"
     ]
    },
    {
     "name": "stdout",
     "output_type": "stream",
     "text": [
      "BMI:- 20.0\n"
     ]
    }
   ],
   "source": [
    "def calculate_bmi(weight_kg,height_m):\n",
    " \"\"\"This is the function of BMI calculation\"\"\"\n",
    " return weight_kg/(height_m**2)\n",
    "weight=float(input(\"enter the value of weight in kg:\"))\n",
    "height=float(input(\"enter the value of heightin meter:\"))\n",
    "\n",
    "bmi=calculate_bmi(weight,height)\n",
    "print(\"BMI:-\",bmi)"
   ]
  },
  {
   "cell_type": "code",
   "execution_count": 1,
   "id": "1731866d-e032-4330-b87a-a48688f75dc2",
   "metadata": {},
   "outputs": [
    {
     "name": "stdout",
     "output_type": "stream",
     "text": [
      "You have BIKE:True\n",
      "You have CAR:True\n",
      "You can travel 100KMs:True\n",
      "\n",
      "You have BIKE:True\n",
      "You have CAR:False\n",
      "You can travel 100KMs:True\n",
      "\n",
      "You have BIKE:False\n",
      "You have CAR:False\n",
      "You can travel 100KMs:False\n",
      "\n",
      "You have BIKE:False\n",
      "You have CAR:True\n",
      "You can travel 100KMs:True\n",
      "\n"
     ]
    }
   ],
   "source": [
    "BIKE=True\n",
    "CAR=True\n",
    "TRAVEL_100_KM=BIKE or CAR\n",
    "print(f\"You have BIKE:{BIKE}\")\n",
    "print(f\"You have CAR:{CAR}\")\n",
    "print(f\"You can travel 100KMs:{TRAVEL_100_KM}\\n\")\n",
    "\n",
    "BIKE=True\n",
    "CAR=False\n",
    "TRAVEL_100_KM=BIKE or CAR\n",
    "print(f\"You have BIKE:{BIKE}\")\n",
    "print(f\"You have CAR:{CAR}\")\n",
    "print(f\"You can travel 100KMs:{TRAVEL_100_KM}\\n\")\n",
    "\n",
    "BIKE=False\n",
    "CAR=False\n",
    "TRAVEL_100_KM=BIKE or CAR\n",
    "print(f\"You have BIKE:{BIKE}\")\n",
    "print(f\"You have CAR:{CAR}\")\n",
    "print(f\"You can travel 100KMs:{TRAVEL_100_KM}\\n\")\n",
    "\n",
    "BIKE=False\n",
    "CAR=True\n",
    "TRAVEL_100_KM=BIKE or CAR\n",
    "print(f\"You have BIKE:{BIKE}\")\n",
    "print(f\"You have CAR:{CAR}\")\n",
    "print(f\"You can travel 100KMs:{TRAVEL_100_KM}\\n\")\n"
   ]
  },
  {
   "cell_type": "code",
   "execution_count": 3,
   "id": "3b675e8e-de26-47d0-b3f4-0c06c50c0223",
   "metadata": {},
   "outputs": [
    {
     "name": "stdout",
     "output_type": "stream",
     "text": [
      "You have BIKE: False\n",
      "You have CAR: False\n",
      "YOU can travel 100 KMs: False\n",
      "\n",
      "You have BIKE: True\n",
      "You have CAR: False\n",
      "YOU can travel 100 KMs: True\n",
      "\n",
      "You have BIKE: False\n",
      "You have CAR: True\n",
      "YOU can travel 100 KMs: True\n",
      "\n",
      "You have BIKE: True\n",
      "You have CAR: True\n",
      "YOU can travel 100 KMs: True\n",
      "\n"
     ]
    }
   ],
   "source": [
    "def travel_or_not(BIKE,CAR):\n",
    "    TRAVEL_100_KM=BIKE or CAR\n",
    "    print(f\"You have BIKE: {BIKE}\")\n",
    "    print(f\"You have CAR: {CAR}\")\n",
    "    print(f\"YOU can travel 100 KMs: {TRAVEL_100_KM}\\n\")\n",
    "\n",
    "travel_or_not(False,False)\n",
    "travel_or_not(True,False)\n",
    "travel_or_not(False,True)\n",
    "travel_or_not(True,True)"
   ]
  },
  {
   "cell_type": "code",
   "execution_count": 5,
   "id": "02c2f11e-e113-443e-b0ad-1a2e6052dc38",
   "metadata": {},
   "outputs": [
    {
     "name": "stdout",
     "output_type": "stream",
     "text": [
      "You have BIKE: False\n",
      "You have CAR: False\n",
      "YOU can travel 100 KMs: False\n",
      "\n",
      "You have BIKE: False\n",
      "You have CAR: True\n",
      "YOU can travel 100 KMs: True\n",
      "\n",
      "You have BIKE: True\n",
      "You have CAR: False\n",
      "YOU can travel 100 KMs: True\n",
      "\n",
      "You have BIKE: True\n",
      "You have CAR: True\n",
      "YOU can travel 100 KMs: True\n",
      "\n"
     ]
    }
   ],
   "source": [
    "def travel_or_not(BIKE,CAR):\n",
    "    TRAVEL_100_KM=BIKE or CAR\n",
    "    print(f\"You have BIKE: {BIKE}\")\n",
    "    print(f\"You have CAR: {CAR}\")\n",
    "    print(f\"YOU can travel 100 KMs: {TRAVEL_100_KM}\\n\")\n",
    "\n",
    "BIKE=[False,False,True,True]\n",
    "CAR=[False,True,False,True]\n",
    "\n",
    "for bike, car in zip(BIKE,CAR):\n",
    "    travel_or_not(bike,car)"
   ]
  },
  {
   "cell_type": "code",
   "execution_count": 9,
   "id": "ff2c0e67-e515-4014-9322-f633bdbc7ab6",
   "metadata": {},
   "outputs": [
    {
     "name": "stdout",
     "output_type": "stream",
     "text": [
      "You have BIKE:True\n",
      "You have CAR:False\n",
      "You can travel 100 KMs:True\n",
      "\n"
     ]
    }
   ],
   "source": [
    "def travel_or_not(BIKE=True, CAR=False):\n",
    "    TRAVEL_100_KM=BIKE or CAR\n",
    "\n",
    "    print(f\"You have BIKE:{BIKE}\")\n",
    "    print(f\"You have CAR:{CAR}\")\n",
    "    print(f\"You can travel 100 KMs:{TRAVEL_100_KM}\\n\")\n",
    "travel_or_not()"
   ]
  },
  {
   "cell_type": "code",
   "execution_count": 11,
   "id": "c16ba62f-c0dc-4220-a457-ebf201514955",
   "metadata": {},
   "outputs": [
    {
     "name": "stdout",
     "output_type": "stream",
     "text": [
      "You have BIKE:False\n",
      "You have CAR:True\n",
      "You can travel 100 KMs:True\n",
      "\n"
     ]
    }
   ],
   "source": [
    "def travel_or_not(BIKE=True, CAR=False):\n",
    "    TRAVEL_100_KM=BIKE or CAR\n",
    "\n",
    "    print(f\"You have BIKE:{BIKE}\")\n",
    "    print(f\"You have CAR:{CAR}\")\n",
    "    print(f\"You can travel 100 KMs:{TRAVEL_100_KM}\\n\")\n",
    "travel_or_not(False,True)"
   ]
  },
  {
   "cell_type": "code",
   "execution_count": 15,
   "id": "f5227a49-e5ff-48be-9876-308bdd2f94f8",
   "metadata": {},
   "outputs": [
    {
     "name": "stdout",
     "output_type": "stream",
     "text": [
      "You have BIKE:False\n",
      "You have CAR:True\n",
      "\n",
      "results:-\n",
      "You can travel 100 KMs:True\n",
      "\n"
     ]
    }
   ],
   "source": [
    "def travel_or_not(BIKE=True, CAR=False):\n",
    "    TRAVEL_100_KM=BIKE or CAR\n",
    "\n",
    "    print(f\"You have BIKE:{BIKE}\")\n",
    "    print(f\"You have CAR:{CAR}\")\n",
    "    return(f\"You can travel 100 KMs:{TRAVEL_100_KM}\\n\")\n",
    "\n",
    "result=travel_or_not(False,True)\n",
    "print(f\"\\nresults:-\\n{result}\")"
   ]
  },
  {
   "cell_type": "code",
   "execution_count": 19,
   "id": "ad32a009-e1f4-469e-bb5b-226186541181",
   "metadata": {},
   "outputs": [
    {
     "name": "stdout",
     "output_type": "stream",
     "text": [
      "You have BIKE:False\n",
      "You have CAR:True\n",
      "You can travel 100 KMs:True\n",
      "\n"
     ]
    }
   ],
   "source": [
    "def travel_or_not(BIKE=True, CAR=False):\n",
    "    TRAVEL_100_KM=BIKE or CAR\n",
    "    return BIKE, CAR, TRAVEL_100_KM\n",
    "\n",
    "result1, result2, result3= travel_or_not(False,True)\n",
    "print(f\"You have BIKE:{result1}\")\n",
    "print(f\"You have CAR:{result2}\")\n",
    "print(f\"You can travel 100 KMs:{result3}\\n\")"
   ]
  },
  {
   "cell_type": "code",
   "execution_count": 23,
   "id": "8dea2676-f349-411d-81f5-200406b81f81",
   "metadata": {},
   "outputs": [
    {
     "name": "stdout",
     "output_type": "stream",
     "text": [
      "My branch was Electronics engineering\n",
      "I liked these subjects in graduation ('Digital Image Processing', 'Microprocessor', 'Python')\n"
     ]
    }
   ],
   "source": [
    "def branch_and_subjects_in_graduation(*args, branch):\n",
    "    print(f\"My branch was {branch}\")\n",
    "    return f\"I liked these subjects in graduation {args}\"\n",
    "\n",
    "results= branch_and_subjects_in_graduation(\"Digital Image Processing\",\"Microprocessor\",\n",
    "                                           \"Python\", branch=\"Electronics engineering\")\n",
    "print(results)"
   ]
  },
  {
   "cell_type": "code",
   "execution_count": 25,
   "id": "5a0633c2-3801-4a50-9482-ae2e35204412",
   "metadata": {},
   "outputs": [
    {
     "name": "stdout",
     "output_type": "stream",
     "text": [
      "4\n"
     ]
    },
    {
     "data": {
      "text/plain": [
       "(4, (10, 20, 30, 40, 50, [4, 5]))"
      ]
     },
     "execution_count": 25,
     "metadata": {},
     "output_type": "execute_result"
    }
   ],
   "source": [
    "def test(*args, a=4):\n",
    "    print(a)\n",
    "    return a,args\n",
    "    return args,a\n",
    "\n",
    "test(10,20,30,40,50,[4,5])"
   ]
  },
  {
   "cell_type": "code",
   "execution_count": 27,
   "id": "d8b0189f-31c5-4d8e-82a8-18b9dd2544e8",
   "metadata": {},
   "outputs": [
    {
     "name": "stdout",
     "output_type": "stream",
     "text": [
      "My branch was Electronics Engineering\n",
      "I liked these subjects in graduation ('Digital Image Processing', 'Microprocessor', 'Python')\n"
     ]
    }
   ],
   "source": [
    "def branch_and_subjects_in_graduation(*args, branch=\"Electronics Engineering\"):\n",
    "    print(f\"My branch was {branch}\")\n",
    "    return f\"I liked these subjects in graduation {args}\"\n",
    "\n",
    "results= branch_and_subjects_in_graduation(\"Digital Image Processing\",\"Microprocessor\",\n",
    "                                           \"Python\")\n",
    "print(results)"
   ]
  },
  {
   "cell_type": "code",
   "execution_count": 35,
   "id": "8215066f-cb43-496f-bd0b-acc7cf040eba",
   "metadata": {},
   "outputs": [
    {
     "name": "stdout",
     "output_type": "stream",
     "text": [
      "{'Digital_Image_Processing': 78, 'Microprocessor': 69, 'Signals_and_Systems': 79}\n"
     ]
    }
   ],
   "source": [
    "def marks_in_subjects_of_semester(**kwargs):\n",
    "    print(kwargs)\n",
    "\n",
    "marks_in_subjects_of_semester(Digital_Image_Processing = 78, Microprocessor = 69, Signals_and_Systems = 79)"
   ]
  },
  {
   "cell_type": "code",
   "execution_count": 39,
   "id": "46d4af55-e9a0-451f-9a4a-4b3544362298",
   "metadata": {},
   "outputs": [
    {
     "name": "stdout",
     "output_type": "stream",
     "text": [
      "Score in Digital_Image_Processing=78\n",
      "Score in Microprocessor=78\n",
      "Score in Signals_and_Systems=80\n"
     ]
    }
   ],
   "source": [
    "def marks_in_subjects_of_semester(**kwargs):\n",
    "    for subject, marks in kwargs.items():\n",
    "        print(f\"Score in {subject}={marks}\")\n",
    "\n",
    "marks_in_subjects_of_semester(Digital_Image_Processing = 78, Microprocessor = 78, Signals_and_Systems = 80)"
   ]
  },
  {
   "cell_type": "code",
   "execution_count": 4,
   "id": "e141053f-4fb5-4306-826a-0285d0150343",
   "metadata": {},
   "outputs": [
    {
     "name": "stdout",
     "output_type": "stream",
     "text": [
      "Score in Image_Processing = 79\n",
      "Score in Microprocessor = 90\n",
      "Score in Signals_and_Systems = 60\n",
      "\n",
      "total marks obtained 229\n"
     ]
    }
   ],
   "source": [
    "def marks_in_subjects_of_semester(**kwargs):\n",
    "    def total_marks(marks_list):\n",
    "        return sum(marks_list)\n",
    "        \n",
    "    marks_list=list()\n",
    "    for subject , marks in kwargs.items():\n",
    "       marks_list.append(marks)\n",
    "       print(f\"Score in {subject} = {marks}\")\n",
    "    \n",
    "    return total_marks(marks_list)\n",
    "\n",
    "result = marks_in_subjects_of_semester(Image_Processing = 79, Microprocessor = 90, Signals_and_Systems = 60)\n",
    "print(f\"\\ntotal marks obtained {result}\")"
   ]
  },
  {
   "cell_type": "code",
   "execution_count": 8,
   "id": "34e991fa-9495-4e2e-ac63-b80e04bfd4ae",
   "metadata": {},
   "outputs": [
    {
     "name": "stdout",
     "output_type": "stream",
     "text": [
      "\n",
      "results:-\n",
      "You can travel 100 Kms: True\n",
      "\n"
     ]
    }
   ],
   "source": [
    "Bike=True\n",
    "Car=False\n",
    "result=lambda Bike, Car: f\"You can travel 100 Kms: {Bike or Car}\\n\"\n",
    "print(f\"\\nresults:-\\n{result(Bike,Car)}\")"
   ]
  },
  {
   "cell_type": "code",
   "execution_count": 10,
   "id": "e393b310-0346-4fd7-af86-301d7bf6a3cc",
   "metadata": {},
   "outputs": [
    {
     "name": "stdin",
     "output_type": "stream",
     "text": [
      "Enter the Number : 4\n",
      "Enter Power : 4\n"
     ]
    },
    {
     "name": "stdout",
     "output_type": "stream",
     "text": [
      "4 to the power of 4 is 256\n"
     ]
    }
   ],
   "source": [
    "number=int(input(\"Enter the Number :\"))\n",
    "power=int(input(\"Enter Power :\"))\n",
    "result= lambda number, power:number**power\n",
    "print(f\"{number} to the power of {power} is {result(number,power)}\")"
   ]
  },
  {
   "cell_type": "code",
   "execution_count": 14,
   "id": "d4bbd7cd-d017-495b-8635-d7eeead7e9e1",
   "metadata": {},
   "outputs": [
    {
     "name": "stdout",
     "output_type": "stream",
     "text": [
      "result after division inside the function : 105\n",
      "result after division outside the function :0\n"
     ]
    }
   ],
   "source": [
    "result = 0\n",
    "\n",
    "def divide(numerator , denominator):\n",
    "    result=numerator//denominator\n",
    "    print(f\"result after division inside the function : {result}\")\n",
    "\n",
    "numerator = 525\n",
    "denominator = 5\n",
    "divide(numerator,denominator)\n",
    "print(f\"result after division outside the function :{result}\")\n",
    "           "
   ]
  },
  {
   "cell_type": "code",
   "execution_count": null,
   "id": "7c423148-ae5f-4574-acea-3dac2293e751",
   "metadata": {},
   "outputs": [],
   "source": [
    "def find_power(number, power):\n",
    "    \"\"\"This function returns the power of the number\n",
    "\n",
    "    Args:\n",
    "    number (int): insert any integer value\n",
    "    power (int): insert any integer value\n",
    "\n",
    "    Returns:\n",
    "        integer: power of number\n",
    "    \"\"\"\n",
    "    return number**power\n",
    "\n",
    "number=5 \n",
    "power=3\n",
    "result=find_power(number,power)\n",
    "\n",
    "print(f\"{number} to the power of {power} is {result}\")"
   ]
  },
  {
   "cell_type": "code",
   "execution_count": 20,
   "id": "99a3f771-2842-41e6-a834-e4d4008c7518",
   "metadata": {},
   "outputs": [
    {
     "name": "stdout",
     "output_type": "stream",
     "text": [
      "312\n"
     ]
    },
    {
     "data": {
      "text/plain": [
       "38"
      ]
     },
     "execution_count": 20,
     "metadata": {},
     "output_type": "execute_result"
    }
   ],
   "source": [
    "def add(x,y):\n",
    "    a=x\n",
    "    b=y\n",
    "    c=a+b\n",
    "    mul=x*y\n",
    "    print(mul)\n",
    "    return c\n",
    "add(12,26)"
   ]
  },
  {
   "cell_type": "code",
   "execution_count": 22,
   "id": "c512eb2a-dec5-48e8-87b8-d6d890f3782b",
   "metadata": {},
   "outputs": [
    {
     "name": "stdout",
     "output_type": "stream",
     "text": [
      "100\n"
     ]
    },
    {
     "data": {
      "text/plain": [
       "20"
      ]
     },
     "execution_count": 22,
     "metadata": {},
     "output_type": "execute_result"
    }
   ],
   "source": [
    "add(10,10)"
   ]
  },
  {
   "cell_type": "code",
   "execution_count": 24,
   "id": "a1bd3b80-30c6-4a93-b5c7-0c29ba33a68e",
   "metadata": {},
   "outputs": [],
   "source": [
    "def attach(s1,s2):\n",
    "    s3=s1+s2\n",
    "    print(\"Joined String is:\",s3)"
   ]
  },
  {
   "cell_type": "code",
   "execution_count": 26,
   "id": "1cacc28b-2a22-44f5-b9ef-189afce27181",
   "metadata": {},
   "outputs": [
    {
     "name": "stdout",
     "output_type": "stream",
     "text": [
      "Joined String is: goodnight\n"
     ]
    }
   ],
   "source": [
    "attach(\"good\",\"night\")"
   ]
  },
  {
   "cell_type": "code",
   "execution_count": 28,
   "id": "c5f67576-37a1-4aca-92a8-06f5e5ccb21a",
   "metadata": {},
   "outputs": [
    {
     "name": "stdout",
     "output_type": "stream",
     "text": [
      "Joined String is: 50\n"
     ]
    }
   ],
   "source": [
    "attach(10,40)"
   ]
  },
  {
   "cell_type": "code",
   "execution_count": 30,
   "id": "60ed229a-2720-41c4-9a45-2157d6d8ebe1",
   "metadata": {},
   "outputs": [],
   "source": [
    "def grocery(name,price):\n",
    "    print(\"Item is\",name,\"It's price is\",price)"
   ]
  },
  {
   "cell_type": "code",
   "execution_count": 32,
   "id": "d2c7e2e0-c4b9-47f2-be3e-adc8a041718b",
   "metadata": {},
   "outputs": [
    {
     "name": "stdout",
     "output_type": "stream",
     "text": [
      "Item is milk It's price is 14\n"
     ]
    }
   ],
   "source": [
    "grocery(\"milk\",14)"
   ]
  },
  {
   "cell_type": "code",
   "execution_count": 34,
   "id": "87dc5670-0cda-4170-b19f-93567c1dcf81",
   "metadata": {},
   "outputs": [
    {
     "name": "stdout",
     "output_type": "stream",
     "text": [
      "Item is 14 It's price is milk\n"
     ]
    }
   ],
   "source": [
    "grocery(14,\"milk\")"
   ]
  },
  {
   "cell_type": "code",
   "execution_count": 36,
   "id": "9f6ca306-d50a-4b33-b79d-670aeddd6199",
   "metadata": {},
   "outputs": [
    {
     "name": "stdout",
     "output_type": "stream",
     "text": [
      "Item is milk It's price is 14\n"
     ]
    }
   ],
   "source": [
    "grocery(name=\"milk\",price=14)"
   ]
  },
  {
   "cell_type": "code",
   "execution_count": 38,
   "id": "9cb08534-f0ba-498c-8e89-baa2ac8d68fd",
   "metadata": {},
   "outputs": [
    {
     "name": "stdout",
     "output_type": "stream",
     "text": [
      "Item is milk It's price is 14\n"
     ]
    }
   ],
   "source": [
    "grocery(price=14,name=\"milk\")"
   ]
  },
  {
   "cell_type": "code",
   "execution_count": 42,
   "id": "f6501b7f-8497-46eb-bba6-e772d01f9c96",
   "metadata": {},
   "outputs": [],
   "source": [
    "def greet(name,msg=\"Good Morning\"):\n",
    "    print(\"Hello\",name,msg)"
   ]
  },
  {
   "cell_type": "code",
   "execution_count": 44,
   "id": "8ba77a86-3e7f-4d73-a359-ac43574e6441",
   "metadata": {},
   "outputs": [
    {
     "name": "stdout",
     "output_type": "stream",
     "text": [
      "Hello yash Good Morning\n"
     ]
    }
   ],
   "source": [
    "greet(\"yash\")"
   ]
  },
  {
   "cell_type": "code",
   "execution_count": 46,
   "id": "1493ea42-2902-4257-998b-04c4930c2080",
   "metadata": {},
   "outputs": [
    {
     "name": "stdout",
     "output_type": "stream",
     "text": [
      "Hello yash Are you tired?\n"
     ]
    }
   ],
   "source": [
    "greet(\"yash\",\"Are you tired?\")"
   ]
  },
  {
   "cell_type": "code",
   "execution_count": 53,
   "id": "1402647c-ddcd-4900-9a27-b6512a4668fa",
   "metadata": {},
   "outputs": [],
   "source": [
    "def greet(msg=\"Om my god\",name=\"yash\"):\n",
    "    pass"
   ]
  },
  {
   "cell_type": "code",
   "execution_count": null,
   "id": "1a7a0a2a-97d8-4816-879d-fc7b75486f8d",
   "metadata": {},
   "outputs": [],
   "source": []
  },
  {
   "cell_type": "code",
   "execution_count": null,
   "id": "45f3edd5-d747-4264-bb88-d7b8ccd6a040",
   "metadata": {},
   "outputs": [],
   "source": []
  }
 ],
 "metadata": {
  "kernelspec": {
   "display_name": "Python 3 (ipykernel)",
   "language": "python",
   "name": "python3"
  },
  "language_info": {
   "codemirror_mode": {
    "name": "ipython",
    "version": 3
   },
   "file_extension": ".py",
   "mimetype": "text/x-python",
   "name": "python",
   "nbconvert_exporter": "python",
   "pygments_lexer": "ipython3",
   "version": "3.12.4"
  }
 },
 "nbformat": 4,
 "nbformat_minor": 5
}
